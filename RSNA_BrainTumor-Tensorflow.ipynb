{
 "cells": [
  {
   "cell_type": "code",
   "execution_count": 2,
   "metadata": {
    "_cell_guid": "b1076dfc-b9ad-4769-8c92-a6c4dae69d19",
    "_uuid": "8f2839f25d086af736a60e9eeb907d3b93b6e0e5",
    "execution": {
     "iopub.execute_input": "2021-12-07T19:32:34.279773Z",
     "iopub.status.busy": "2021-12-07T19:32:34.279300Z",
     "iopub.status.idle": "2021-12-07T19:32:34.284638Z",
     "shell.execute_reply": "2021-12-07T19:32:34.283392Z",
     "shell.execute_reply.started": "2021-12-07T19:32:34.279741Z"
    }
   },
   "outputs": [],
   "source": [
    "import os\n",
    "import glob\n",
    "import re\n",
    "\n",
    "import pandas as pd\n",
    "import numpy as np\n",
    "import matplotlib.pyplot as plt\n",
    "\n",
    "import tensorflow as tf\n",
    "\n",
    "from sklearn.model_selection import train_test_split"
   ]
  },
  {
   "cell_type": "code",
   "execution_count": 3,
   "metadata": {
    "execution": {
     "iopub.execute_input": "2021-12-07T19:32:34.287323Z",
     "iopub.status.busy": "2021-12-07T19:32:34.286580Z",
     "iopub.status.idle": "2021-12-07T19:32:34.309813Z",
     "shell.execute_reply": "2021-12-07T19:32:34.308938Z",
     "shell.execute_reply.started": "2021-12-07T19:32:34.287282Z"
    }
   },
   "outputs": [],
   "source": [
    "df_train = pd.read_csv(\"../input/rsna-miccai-brain-tumor-radiogenomic-classification/train_labels.csv\")"
   ]
  },
  {
   "cell_type": "code",
   "execution_count": 4,
   "metadata": {
    "execution": {
     "iopub.execute_input": "2021-12-07T19:32:34.312200Z",
     "iopub.status.busy": "2021-12-07T19:32:34.311840Z",
     "iopub.status.idle": "2021-12-07T19:32:34.318547Z",
     "shell.execute_reply": "2021-12-07T19:32:34.317785Z",
     "shell.execute_reply.started": "2021-12-07T19:32:34.312158Z"
    }
   },
   "outputs": [],
   "source": [
    "NUMBER_OF_FRAMES = 10\n",
    "BATCH_SIZE = 8\n",
    "EPOCHS = 100\n",
    "IMGS_SIZE = 224\n",
    "LSTM_UNITS = 256"
   ]
  },
  {
   "cell_type": "code",
   "execution_count": 5,
   "metadata": {
    "execution": {
     "iopub.execute_input": "2021-12-07T19:32:34.320752Z",
     "iopub.status.busy": "2021-12-07T19:32:34.320339Z",
     "iopub.status.idle": "2021-12-07T19:32:34.328437Z",
     "shell.execute_reply": "2021-12-07T19:32:34.327566Z",
     "shell.execute_reply.started": "2021-12-07T19:32:34.320672Z"
    }
   },
   "outputs": [],
   "source": [
    "def get_paths(df, core_path: str):\n",
    "    \n",
    "    path_list = []\n",
    "    \n",
    "    for i in df[\"BraTS21ID\"]:\n",
    "        if len(str(i)) < 5:\n",
    "            part = \"0\" * (5-len(str(i))) + str(i)\n",
    "            full_path = os.path.join(core_path, part, \"FLAIR\")\n",
    "            path_list.append(full_path)\n",
    "            \n",
    "        else:\n",
    "            path_list.append(os.path.join(core_path, i, \"FLAIR\"))\n",
    "    \n",
    "    return path_list"
   ]
  },
  {
   "cell_type": "code",
   "execution_count": 6,
   "metadata": {
    "execution": {
     "iopub.execute_input": "2021-12-07T19:32:34.330486Z",
     "iopub.status.busy": "2021-12-07T19:32:34.330095Z",
     "iopub.status.idle": "2021-12-07T19:32:34.372973Z",
     "shell.execute_reply": "2021-12-07T19:32:34.372171Z",
     "shell.execute_reply.started": "2021-12-07T19:32:34.330437Z"
    }
   },
   "outputs": [],
   "source": [
    "train_path = \"../input/rsna-miccai-png/train\"\n",
    "df_train[\"path\"] = get_paths(df_train, train_path)\n",
    "df_train = df_train.loc[df_train.BraTS21ID!=109]\n",
    "df_train = df_train.loc[df_train.BraTS21ID!=709]\n",
    "df_train = df_train.reset_index(drop=True)\n",
    "df_train.head()"
   ]
  },
  {
   "cell_type": "code",
   "execution_count": 7,
   "metadata": {
    "execution": {
     "iopub.execute_input": "2021-12-07T19:32:34.374760Z",
     "iopub.status.busy": "2021-12-07T19:32:34.374209Z",
     "iopub.status.idle": "2021-12-07T19:32:34.384286Z",
     "shell.execute_reply": "2021-12-07T19:32:34.383189Z",
     "shell.execute_reply.started": "2021-12-07T19:32:34.374724Z"
    }
   },
   "outputs": [],
   "source": [
    "def frame_selection(path):\n",
    "    \n",
    "    r = re.compile('([0-9]+).png')\n",
    "    \n",
    "    user_img_paths = []\n",
    "    img_number = []\n",
    "    \n",
    "    paths = glob.glob(path.decode('utf8') + \"/*.png\")\n",
    "    \n",
    "    for path in paths:\n",
    "        \n",
    "        img_number.append(int(r.search(path).group(1)))\n",
    "            \n",
    "    n_img_path = np.array(paths)\n",
    "    n_img_num = np.array(img_number)\n",
    "        \n",
    "    inds = n_img_num.argsort()\n",
    "    sorted_user_list = n_img_path[inds].tolist()\n",
    "    \n",
    "    start = tf.random.uniform((1,), maxval=len(sorted_user_list)-NUMBER_OF_FRAMES, dtype=tf.int32)\n",
    "    \n",
    "    \n",
    "    ### Place number of frames in brackets to create a tensor\n",
    "    paths = tf.slice(sorted_user_list, start, [NUMBER_OF_FRAMES])\n",
    "                \n",
    "    img = tf.nest.map_structure(tf.stop_gradient, tf.map_fn(fn=img_loader, elems=paths, fn_output_signature=tf.float32))\n",
    "        \n",
    "    return img"
   ]
  },
  {
   "cell_type": "code",
   "execution_count": 8,
   "metadata": {
    "execution": {
     "iopub.execute_input": "2021-12-07T19:32:34.386054Z",
     "iopub.status.busy": "2021-12-07T19:32:34.385654Z",
     "iopub.status.idle": "2021-12-07T19:32:34.396216Z",
     "shell.execute_reply": "2021-12-07T19:32:34.395305Z",
     "shell.execute_reply.started": "2021-12-07T19:32:34.386018Z"
    }
   },
   "outputs": [],
   "source": [
    "def img_loader(path):\n",
    "    \n",
    "    img = tf.io.read_file(path)\n",
    "    img = decode_image(img)\n",
    "    img = tf.image.resize(img, (IMGS_SIZE,IMGS_SIZE))\n",
    "    \n",
    "    return img\n",
    "\n",
    "def decode_image(image):\n",
    "    \n",
    "    image = tf.image.decode_png(image, channels=1)\n",
    "    image = tf.image.convert_image_dtype(image, dtype=tf.float32)\n",
    "    \n",
    "    return image"
   ]
  },
  {
   "cell_type": "code",
   "execution_count": 9,
   "metadata": {
    "execution": {
     "iopub.execute_input": "2021-12-07T19:32:34.398097Z",
     "iopub.status.busy": "2021-12-07T19:32:34.397714Z",
     "iopub.status.idle": "2021-12-07T19:32:34.405986Z",
     "shell.execute_reply": "2021-12-07T19:32:34.405141Z",
     "shell.execute_reply.started": "2021-12-07T19:32:34.398060Z"
    }
   },
   "outputs": [],
   "source": [
    "### Change ###\n",
    "def load_frame(df_dict):\n",
    "    \n",
    "    dirname = df_dict[\"path\"]\n",
    "    paths = tf.numpy_function(frame_selection, [dirname], tf.float32)\n",
    "    \n",
    "    # Parse label\n",
    "    label = df_dict[\"MGMT_value\"]\n",
    "    label = tf.cast(label, tf.float32)\n",
    "    \n",
    "    return paths, label"
   ]
  },
  {
   "cell_type": "code",
   "execution_count": 10,
   "metadata": {
    "execution": {
     "iopub.execute_input": "2021-12-07T19:32:34.408503Z",
     "iopub.status.busy": "2021-12-07T19:32:34.408200Z",
     "iopub.status.idle": "2021-12-07T19:32:34.421072Z",
     "shell.execute_reply": "2021-12-07T19:32:34.419893Z",
     "shell.execute_reply.started": "2021-12-07T19:32:34.408471Z"
    }
   },
   "outputs": [],
   "source": [
    "train_df, valid_df = train_test_split(df_train, test_size=0.1, stratify=df_train.MGMT_value.values)\n",
    "print(f'Size of train_df: {len(train_df)}; valid_df: {len(valid_df)}')"
   ]
  },
  {
   "cell_type": "code",
   "execution_count": 11,
   "metadata": {
    "execution": {
     "iopub.execute_input": "2021-12-07T19:32:34.423146Z",
     "iopub.status.busy": "2021-12-07T19:32:34.422771Z",
     "iopub.status.idle": "2021-12-07T19:32:36.090685Z",
     "shell.execute_reply": "2021-12-07T19:32:36.089836Z",
     "shell.execute_reply.started": "2021-12-07T19:32:34.423110Z"
    }
   },
   "outputs": [],
   "source": [
    "AUTOTUNE = tf.data.AUTOTUNE\n",
    "\n",
    "trainloader = tf.data.Dataset.from_tensor_slices(dict(train_df))\n",
    "validloader = tf.data.Dataset.from_tensor_slices(dict(valid_df))\n",
    "\n",
    "\n",
    "trainloader= (\n",
    "    trainloader\n",
    "    .shuffle(1024)\n",
    "    .map(load_frame, num_parallel_calls=AUTOTUNE)\n",
    "    .batch(BATCH_SIZE)\n",
    "    .prefetch(AUTOTUNE)\n",
    ")\n",
    "\n",
    "validloader = (\n",
    "    validloader\n",
    "    .map(load_frame, num_parallel_calls=AUTOTUNE)\n",
    "    .batch(BATCH_SIZE)\n",
    "    .prefetch(AUTOTUNE)\n",
    ")"
   ]
  },
  {
   "cell_type": "code",
   "execution_count": 12,
   "metadata": {
    "execution": {
     "iopub.execute_input": "2021-12-07T19:32:36.094174Z",
     "iopub.status.busy": "2021-12-07T19:32:36.093921Z",
     "iopub.status.idle": "2021-12-07T19:32:36.100168Z",
     "shell.execute_reply": "2021-12-07T19:32:36.099229Z",
     "shell.execute_reply.started": "2021-12-07T19:32:36.094149Z"
    }
   },
   "outputs": [],
   "source": [
    "def image_plotting(loader):\n",
    "    \n",
    "    \n",
    "    ax, fig = plt.subplots(2,5,figsize=(10,2))\n",
    "    \n",
    "    for i in range(NUMBER_OF_FRAMES):\n",
    "        \n",
    "        i=+1\n",
    "        frames, lab = next(iter(loader))\n",
    "        frames = frames[0,0,:,:]\n",
    "    \n",
    "        plt.subplot(2,5, i)\n",
    "        \n",
    "        plt.imshow(frames)"
   ]
  },
  {
   "cell_type": "code",
   "execution_count": 13,
   "metadata": {
    "execution": {
     "iopub.execute_input": "2021-12-07T19:32:36.102552Z",
     "iopub.status.busy": "2021-12-07T19:32:36.101870Z",
     "iopub.status.idle": "2021-12-07T19:32:36.109402Z",
     "shell.execute_reply": "2021-12-07T19:32:36.108476Z",
     "shell.execute_reply.started": "2021-12-07T19:32:36.102512Z"
    }
   },
   "outputs": [],
   "source": [
    "#image_plotting(trainloader)"
   ]
  },
  {
   "cell_type": "code",
   "execution_count": 14,
   "metadata": {
    "execution": {
     "iopub.execute_input": "2021-12-07T19:32:36.111445Z",
     "iopub.status.busy": "2021-12-07T19:32:36.110975Z",
     "iopub.status.idle": "2021-12-07T19:32:44.922212Z",
     "shell.execute_reply": "2021-12-07T19:32:44.921361Z",
     "shell.execute_reply.started": "2021-12-07T19:32:36.111410Z"
    }
   },
   "outputs": [],
   "source": [
    "ax, fig = plt.subplots(figsize=(15,2))\n",
    "\n",
    "for i in range(NUMBER_OF_FRAMES):\n",
    "    \n",
    "    i += 1\n",
    "    frames, labels = next(iter(trainloader))\n",
    "    frames = frames[0,0,:,:]\n",
    "    \n",
    "    plt.subplot(2,5, i)\n",
    "    plt.imshow(frames)"
   ]
  },
  {
   "cell_type": "code",
   "execution_count": 15,
   "metadata": {
    "execution": {
     "iopub.execute_input": "2021-12-07T19:32:44.924035Z",
     "iopub.status.busy": "2021-12-07T19:32:44.923497Z",
     "iopub.status.idle": "2021-12-07T19:32:47.334223Z",
     "shell.execute_reply": "2021-12-07T19:32:47.332697Z",
     "shell.execute_reply.started": "2021-12-07T19:32:44.923996Z"
    }
   },
   "outputs": [],
   "source": [
    "### Functions for training ###\n",
    "\n",
    "def model_generation():\n",
    "    \n",
    "    tf.keras.backend.clear_session()\n",
    "    transfer_learning = tf.keras.applications.EfficientNetB0(include_top=False, weights=\"imagenet\")\n",
    "    transfer_learning.trainable = True\n",
    "    inputs = tf.keras.Input(shape=(IMGS_SIZE, IMGS_SIZE, 1))\n",
    "    \n",
    "    \n",
    "    x = tf.keras.layers.Conv2D(3, kernel_size=(3,3), padding=\"same\", activation=\"relu\")(inputs)\n",
    "    x = transfer_learning(x, training=True)\n",
    "    x = tf.keras.layers.GlobalAveragePooling2D()(x)\n",
    "    \n",
    "    return tf.keras.Model(inputs, x)\n",
    "\n",
    "model = model_generation()\n",
    "model.summary()"
   ]
  },
  {
   "cell_type": "code",
   "execution_count": 16,
   "metadata": {
    "execution": {
     "iopub.execute_input": "2021-12-07T19:32:47.335882Z",
     "iopub.status.busy": "2021-12-07T19:32:47.335548Z",
     "iopub.status.idle": "2021-12-07T19:32:51.180674Z",
     "shell.execute_reply": "2021-12-07T19:32:51.179876Z",
     "shell.execute_reply.started": "2021-12-07T19:32:47.335847Z"
    }
   },
   "outputs": [],
   "source": [
    "### Temportal model generation ###\n",
    "\n",
    "def temp_model_generation():\n",
    "    \n",
    "    tf.keras.backend.clear_session() \n",
    "    inputs = tf.keras.Input(shape = (NUMBER_OF_FRAMES, IMGS_SIZE, IMGS_SIZE, 1))\n",
    "    \n",
    "    base_model = model_generation()\n",
    "    \n",
    "    #Wrapper that allows the application on each temporal layer\n",
    "    time_wrap = tf.keras.layers.TimeDistributed(base_model)(inputs)\n",
    "    lstm = tf.keras.layers.LSTM(LSTM_UNITS, return_sequences = True)(time_wrap)\n",
    "    outro = tf.keras.layers.Dense(1, activation=\"sigmoid\")(lstm)\n",
    "    \n",
    "    return tf.keras.Model(inputs, outro)\n",
    "\n",
    "\n",
    "tf.keras.backend.clear_session() \n",
    "final_model = temp_model_generation()\n",
    "final_model.summary()"
   ]
  },
  {
   "cell_type": "code",
   "execution_count": 17,
   "metadata": {
    "execution": {
     "iopub.execute_input": "2021-12-07T19:32:51.182316Z",
     "iopub.status.busy": "2021-12-07T19:32:51.181984Z",
     "iopub.status.idle": "2021-12-07T19:32:51.188095Z",
     "shell.execute_reply": "2021-12-07T19:32:51.187298Z",
     "shell.execute_reply.started": "2021-12-07T19:32:51.182271Z"
    }
   },
   "outputs": [],
   "source": [
    "### Model Callbacks ####\n",
    "## Expand this to plato###\n",
    "\n",
    "earlystopper = tf.keras.callbacks.EarlyStopping(\n",
    "    monitor=\"val_loss\", patience=10, verbose=0, mode=\"min\",\n",
    "    restore_best_weights=True\n",
    ")\n",
    "\n",
    "save_loc = r'C:\\Users\\omar.gluhic\\Desktop\\Education\\Udemy\\OOPPython\\models'\n",
    "save_loc = os.path.join(save_loc,'best_model.h5')\n",
    "\n",
    "model_save = tf.keras.callbacks.ModelCheckpoint(save_loc,\n",
    "                             save_best_only = True, \n",
    "                             monitor = 'val_auc', \n",
    "                             mode = 'max', verbose = 1)"
   ]
  },
  {
   "cell_type": "code",
   "execution_count": 18,
   "metadata": {
    "execution": {
     "iopub.execute_input": "2021-12-07T19:32:51.190041Z",
     "iopub.status.busy": "2021-12-07T19:32:51.189476Z",
     "iopub.status.idle": "2021-12-07T19:59:01.442746Z",
     "shell.execute_reply": "2021-12-07T19:59:01.441807Z",
     "shell.execute_reply.started": "2021-12-07T19:32:51.190006Z"
    }
   },
   "outputs": [],
   "source": [
    "tf.keras.backend.clear_session() \n",
    "final_model.compile(optimizer=tf.keras.optimizers.Adam(),\n",
    "              loss='binary_crossentropy', metrics=['acc'])\n",
    "\n",
    "\n",
    "\n",
    "history = final_model.fit(trainloader,\n",
    "                         epochs = EPOCHS,\n",
    "                         validation_data = validloader,\n",
    "                         callbacks=[earlystopper,model_save])"
   ]
  },
  {
   "cell_type": "code",
   "execution_count": 19,
   "metadata": {
    "execution": {
     "iopub.execute_input": "2021-12-07T19:59:01.447499Z",
     "iopub.status.busy": "2021-12-07T19:59:01.447105Z",
     "iopub.status.idle": "2021-12-07T19:59:04.880366Z",
     "shell.execute_reply": "2021-12-07T19:59:04.879584Z",
     "shell.execute_reply.started": "2021-12-07T19:59:01.447461Z"
    }
   },
   "outputs": [],
   "source": [
    "loss, acc = final_model.evaluate(validloader)"
   ]
  }
 ],
 "metadata": {
  "kernelspec": {
   "display_name": "Python 3",
   "language": "python",
   "name": "python3"
  },
  "language_info": {
   "codemirror_mode": {
    "name": "ipython",
    "version": 3
   },
   "file_extension": ".py",
   "mimetype": "text/x-python",
   "name": "python",
   "nbconvert_exporter": "python",
   "pygments_lexer": "ipython3",
   "version": "3.7.3"
  }
 },
 "nbformat": 4,
 "nbformat_minor": 4
}
